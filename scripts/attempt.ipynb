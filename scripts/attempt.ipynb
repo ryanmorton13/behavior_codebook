{
 "cells": [
  {
   "cell_type": "code",
   "execution_count": 23,
   "metadata": {},
   "outputs": [],
   "source": [
    "import pandas as pd\n",
    "import numpy as np\n",
    "import matplotlib as plt\n",
    "import seaborn as sns\n",
    "\n",
    "\n",
    "df = pd.read_csv('../src/df.csv')\n",
    "df_filtered = pd.read_csv('../src/df_filtered.csv')\n",
    "idx = df_filtered['individuals_bodyparts_coords']\n",
    "x = df_filtered['mouse1_snout_x']\n",
    "y = df_filtered['mouse1_1_snout_1_y']\n",
    "lik = df_filtered['mouse1_2_snout_2_likelihood']\n",
    "\n",
    "\n",
    "good = list(np.where(lik >0.95))[0]\n",
    "\n",
    "df_new = df_filtered.loc[good].reset_index()\n",
    "\n",
    "\n",
    "\n"
   ]
  },
  {
   "cell_type": "code",
   "execution_count": 24,
   "metadata": {},
   "outputs": [],
   "source": [
    "x2 = x[good].reset_index()\n",
    "y2 = y[good]\n",
    "\n"
   ]
  }
 ],
 "metadata": {
  "kernelspec": {
   "display_name": "Python 3.8.13 ('codebook')",
   "language": "python",
   "name": "python3"
  },
  "language_info": {
   "codemirror_mode": {
    "name": "ipython",
    "version": 3
   },
   "file_extension": ".py",
   "mimetype": "text/x-python",
   "name": "python",
   "nbconvert_exporter": "python",
   "pygments_lexer": "ipython3",
   "version": "3.8.13"
  },
  "orig_nbformat": 4,
  "vscode": {
   "interpreter": {
    "hash": "227ef6986e45a7dc669655726cc6b22a203b13311b88b9dc4ae5354359dd4f2b"
   }
  }
 },
 "nbformat": 4,
 "nbformat_minor": 2
}
